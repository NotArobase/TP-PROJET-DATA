{
 "cells": [
  {
   "cell_type": "code",
   "execution_count": 1,
   "metadata": {},
   "outputs": [],
   "source": [
    "import requests\n",
    "from requests.auth import HTTPBasicAuth\n",
    "import time\n",
    "from kafka import KafkaProducer\n",
    "import json\n",
    "from datetime import datetime, timedelta, timezone\n",
    "\n",
    "correspond = [\"icao24\", \"callsign\", \"origin_country\", \"time_position\",\n",
    "              \"last_contact\", \"longitude\", \"latitude\", \"baro_altitude\",\n",
    "              \"on_ground\", \"velocity\", \"true_track\", \"vertical_rate\",\n",
    "              \"sensors\", \"geo_altitude\", \"squawk\", \"spi\", \"position_source\", \"category\"]\n",
    "\n",
    "# OpenSky credentials\n",
    "USERNAME = \"username\"\n",
    "PASSWORD = \"password\"\n",
    "\n",
    "def send_opensky_to_kafka(topic, url, fields={}):\n",
    "    kafka_config = {\n",
    "        'bootstrap_servers': 'kafka1:9092',\n",
    "    }\n",
    "\n",
    "    producer = KafkaProducer(\n",
    "        bootstrap_servers=kafka_config['bootstrap_servers'],\n",
    "        value_serializer=lambda v: json.dumps(v).encode('utf-8')\n",
    "    )\n",
    "\n",
    "    # response = requests.get(url, headers=headers, auth=HTTPBasicAuth(USERNAME, PASSWORD))\n",
    "    response = requests.get(url)\n",
    "\n",
    "    if response.status_code == 200:\n",
    "        data = response.json()\n",
    "        if data and \"states\" in data:\n",
    "            for state in data[\"states\"]:\n",
    "                flight_info = {key: state[i] for i, key in enumerate(correspond) if key}\n",
    "                flight_info[\"created_at\"] = datetime.now(timezone.utc).isoformat()\n",
    "                producer.send(topic, value=flight_info)\n",
    "            producer.flush()    \n",
    "            print(f\"Sent {len(data['states'])} records to Kafka.\")\n",
    "        else:\n",
    "            print(\"No valid data to send.\")\n",
    "    else:\n",
    "        print(f\"Failed to fetch data from OpenSky API. Status code: {response.status_code}\")\n",
    "        print(response.text)  # Print the response for debugging\n",
    "    producer.close()\n",
    "\n",
    "api_url_time = \"https://opensky-network.org/api/states/all?extended={}&time={}\"\n",
    "api_url = \"https://opensky-network.org/api/states/all?extended={}\"\n",
    "\n"
   ]
  },
  {
   "cell_type": "code",
   "execution_count": 1,
   "metadata": {},
   "outputs": [
    {
     "ename": "NameError",
     "evalue": "name 'send_opensky_to_kafka' is not defined",
     "output_type": "error",
     "traceback": [
      "\u001b[0;31m---------------------------------------------------------------------------\u001b[0m",
      "\u001b[0;31mNameError\u001b[0m                                 Traceback (most recent call last)",
      "Cell \u001b[0;32mIn[1], line 4\u001b[0m\n\u001b[1;32m      2\u001b[0m \u001b[38;5;28;01mfor\u001b[39;00m i \u001b[38;5;129;01min\u001b[39;00m \u001b[38;5;28mrange\u001b[39m(\u001b[38;5;241m10\u001b[39m):\n\u001b[1;32m      3\u001b[0m     \u001b[38;5;28;01mfor\u001b[39;00m i \u001b[38;5;129;01min\u001b[39;00m \u001b[38;5;28mrange\u001b[39m(\u001b[38;5;241m6\u001b[39m):\n\u001b[0;32m----> 4\u001b[0m         \u001b[43msend_opensky_to_kafka\u001b[49m(\u001b[38;5;124m\"\u001b[39m\u001b[38;5;124mopensky\u001b[39m\u001b[38;5;124m\"\u001b[39m, api_url\u001b[38;5;241m.\u001b[39mformat(\u001b[38;5;241m1\u001b[39m), {})\n\u001b[1;32m      5\u001b[0m         time\u001b[38;5;241m.\u001b[39msleep(\u001b[38;5;241m10\u001b[39m)\n",
      "\u001b[0;31mNameError\u001b[0m: name 'send_opensky_to_kafka' is not defined"
     ]
    }
   ],
   "source": [
    "import time \n",
    "for i in range(10):\n",
    "    for i in range(6):\n",
    "        send_opensky_to_kafka(\"opensky\", api_url.format(1), {})\n",
    "        time.sleep(10)\n",
    "\n",
    "  "
   ]
  }
 ],
 "metadata": {
  "kernelspec": {
   "display_name": "Python 3 (ipykernel)",
   "language": "python",
   "name": "python3"
  },
  "language_info": {
   "codemirror_mode": {
    "name": "ipython",
    "version": 3
   },
   "file_extension": ".py",
   "mimetype": "text/x-python",
   "name": "python",
   "nbconvert_exporter": "python",
   "pygments_lexer": "ipython3",
   "version": "3.12.9"
  }
 },
 "nbformat": 4,
 "nbformat_minor": 2
}
