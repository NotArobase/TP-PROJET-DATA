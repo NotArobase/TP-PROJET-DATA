{
 "cells": [
  {
   "cell_type": "code",
   "execution_count": null,
   "metadata": {},
   "outputs": [],
   "source": [
    "from pyspark.sql import SparkSession\n",
    "from pyspark.sql.functions import from_json, col, window, avg\n",
    "from pyspark.sql.types import StructType, StructField, StringType, IntegerType, TimestampType, FloatType\n",
    "\n",
    "import seaborn as sns\n",
    "import matplotlib.dates as md"
   ]
  },
  {
   "cell_type": "code",
   "execution_count": null,
   "metadata": {},
   "outputs": [],
   "source": [
    "\n",
    "# Kafka configuration\n",
    "kafka_broker = \"kafka1:9092\"\n",
    "kafka_topic = \"wind\"\n",
    "\n",
    "# Define schema for the Kafka message\n",
    "schema = StructType([\n",
    "    StructField(\"created_at\", StringType(), True),\n",
    "    StructField(\"entry_id\", IntegerType(), True),\n",
    "    StructField(\"wind_speed\", StringType(), True)  # Voltage is initially a string\n",
    "])\n",
    "\n",
    "# Read raw data from Kafka\n",
    "raw_stream = sql_context.read \\\n",
    "    .format(\"kafka\") \\\n",
    "    .option(\"kafka.bootstrap.servers\", kafka_broker) \\\n",
    "    .option(\"subscribe\", kafka_topic) \\\n",
    "    .option(\"startingOffsets\", \"earliest\") \\\n",
    "    .load()\n",
    "\n",
    "# Parse Kafka messages\n",
    "## dropDuplicates : retirer les éléments ayant la même valeur\n",
    "parsed_stream = raw_stream.selectExpr(\"CAST(value AS STRING) AS message\") \\\n",
    "    .select(from_json(col(\"message\"), schema).alias(\"data\")) \\\n",
    "    .select(\n",
    "        col(\"data.created_at\").cast(TimestampType()).alias(\"created_at\"),  # Convert timestamp to Spark TimestampType\n",
    "        col(\"data.entry_id\").alias(\"entry_id\"),\n",
    "        col(\"data.wind_speed\").cast(FloatType()).alias(\"wind_speed\")  # Convert voltage to FloatType for aggregation\n",
    "    ).dropDuplicates([\"entry_id\"]).withWatermark(\"created_at\", \"5 minutes\")\n",
    "\n",
    "parsed_stream = parsed_stream.filter(col(\"data.wind_speed\").isNotNull())\n",
    "\n",
    "\n",
    "# Compute rolling average over a 5-minute window\n",
    "rolling_average = parsed_stream \\\n",
    "    .groupBy(window(col(\"created_at\"), \"5 minutes\")) \\\n",
    "    .agg(avg(\"wind_speed\").alias(\"rolling_avg_wind_speed\")) \\\n",
    "    .select(\n",
    "        col(\"window.start\").alias(\"window_start\"),\n",
    "        col(\"window.end\").alias(\"window_end\"),\n",
    "        col(\"rolling_avg_wind_speed\")\n",
    "    )  # Explicit ordering by window start\n",
    "\n",
    "# Collect the result as a Pandas DataFrame\n",
    "pandas_df = rolling_average.toPandas()\n",
    "pandas_df\n",
    "\n",
    "\n",
    "g = sns.lineplot(data=pandas_df, x=\"window_start\", y=\"rolling_avg_wind_speed\")\n",
    "g.xaxis.set_major_formatter(md.DateFormatter('%d/%m\\n%H:%M'))"
   ]
  }
 ],
 "metadata": {
  "language_info": {
   "name": "python"
  }
 },
 "nbformat": 4,
 "nbformat_minor": 2
}
