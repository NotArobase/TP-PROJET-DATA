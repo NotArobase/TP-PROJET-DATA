{
 "cells": [
  {
   "cell_type": "markdown",
   "metadata": {},
   "source": [
    "# Batch request 1\n"
   ]
  },
  {
   "cell_type": "markdown",
   "metadata": {},
   "source": [
    "## Imports"
   ]
  },
  {
   "cell_type": "code",
   "execution_count": null,
   "metadata": {},
   "outputs": [],
   "source": [
    "from pyspark.sql import SparkSession\n",
    "from pyspark.sql.functions import from_json, col, window, avg, count\n",
    "from pyspark.sql.types import StructType, StructField, StringType, IntegerType, TimestampType, FloatType\n"
   ]
  },
  {
   "cell_type": "code",
   "execution_count": null,
   "metadata": {},
   "outputs": [],
   "source": [
    "conf = SparkConf() \\\n",
    "    .setAppName('SparkApp') \\\n",
    "    .setMaster('spark://spark:7077') \\\n",
    "    .set(\"spark.jars.packages\", \"org.apache.hadoop:hadoop-aws:3.3.4,org.apache.spark:spark-sql-kafka-0-10_2.12:3.5.3\") \\\n",
    "    .set(\"spark.sql.shuffle.partitions\", \"10\")\n",
    " \n",
    "\n",
    "sc = SparkContext.getOrCreate(conf=conf)\n",
    "\n",
    "\n",
    "# Créer un SQLContext pour les opérations SQL\n",
    "sql_context = SQLContext(sc)\n",
    "kafka_broker = \"kafka1:9092\"\n",
    "kafka_topic = \"opensky\"\n",
    "\n",
    "# Define schema for the Kafka message\n",
    "schema = StructType([\n",
    "    StructField(\"icao24\", StringType(), True),\n",
    "    StructField(\"callsign\", StringType(), True),\n",
    "    StructField(\"origin_country\", StringType(), True),\n",
    "    StructField(\"time_position\", IntegerType(), True),\n",
    "    StructField(\"longitude\", FloatType(), True),\n",
    "    StructField(\"latitude\", FloatType(), True),\n",
    "    StructField(\"on_ground\", StringType(), True),\n",
    "    StructField(\"velocity\", FloatType(), True),  # Speed in m/s\n",
    "])\n",
    "\n",
    "spark = SparkSession.builder.appName(\"KafkaStreamExample\").getOrCreate()\n"
   ]
  },
  {
   "cell_type": "code",
   "execution_count": null,
   "metadata": {},
   "outputs": [],
   "source": [
    "# Read raw data from Kafka for batch processing\n",
    "raw_stream = spark.read \\\n",
    "    .format(\"kafka\") \\\n",
    "    .option(\"kafka.bootstrap.servers\", kafka_broker) \\\n",
    "    .option(\"subscribe\", kafka_topic) \\\n",
    "    .option(\"startingOffsets\", \"earliest\") \\\n",
    "    .load()\n",
    "\n",
    "# Parse Kafka messages\n",
    "## dropDuplicates : retirer les éléments ayant la même valeur\n",
    "parsed_stream = raw_stream.selectExpr(\"CAST(value AS STRING) AS message\") \\\n",
    "    .select(from_json(col(\"message\"), schema).alias(\"data\")) \\\n",
    "    .select(\n",
    "        col(\"data.icao24\").alias(\"icao24\"),\n",
    "        col(\"data.callsign\").alias(\"callsign\"),\n",
    "        col(\"data.origin_country\").alias(\"origin_country\"),\n",
    "        (col(\"data.time_position\").cast(\"timestamp\")).alias(\"time_position\"),\n",
    "        col(\"data.velocity\").alias(\"velocity\"),\n",
    "        col(\"data.on_ground\").alias(\"on_ground\")\n",
    "    ) \\\n",
    "    .filter(col(\"data.velocity\").isNotNull() & (col(\"data.on_ground\") == \"false\"))\n",
    "\n",
    "\n",
    "# Compute rolling average over a 5-minute window\n",
    "# Perform rolling average over a 5-minute window\n",
    "rolling_avg_df = parsed_stream \\\n",
    "    .groupBy(window(col(\"time_position\"), \"5 minutes\")) \\\n",
    "    .agg(\n",
    "        avg(\"velocity\").alias(\"rolling_avg_velocity\"),  # Calculating the rolling average of velocity\n",
    "        count(\"icao24\").alias(\"num_flights\")  # Count the number of flights in the window\n",
    "    ) \\\n",
    "    .select(\n",
    "        col(\"window.start\").alias(\"window_start\"),\n",
    "        col(\"window.end\").alias(\"window_end\"),\n",
    "        col(\"rolling_avg_velocity\"),\n",
    "        col(\"num_flights\")\n",
    "    )\n",
    "\n",
    "# Collect the result as a Pandas DataFrame for further analysis or reporting\n",
    "pandas_df = rolling_avg_df.toPandas()\n",
    "\n",
    "# Print the rolling average result\n",
    "print(pandas_df)\n",
    "\n",
    "#import seaborn as sns\n",
    "#import matplotlib.dates as md\n"
   ]
  },
  {
   "cell_type": "code",
   "execution_count": null,
   "metadata": {},
   "outputs": [],
   "source": []
  }
 ],
 "metadata": {
  "kernelspec": {
   "display_name": "Python 3 (ipykernel)",
   "language": "python",
   "name": "python3"
  },
  "language_info": {
   "codemirror_mode": {
    "name": "ipython",
    "version": 3
   },
   "file_extension": ".py",
   "mimetype": "text/x-python",
   "name": "python",
   "nbconvert_exporter": "python",
   "pygments_lexer": "ipython3",
   "version": "3.12.9"
  }
 },
 "nbformat": 4,
 "nbformat_minor": 2
}
