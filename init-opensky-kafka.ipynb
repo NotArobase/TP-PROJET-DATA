{
 "cells": [
  {
   "cell_type": "markdown",
   "metadata": {},
   "source": [
    "# Init OpenSky into Kafka"
   ]
  },
  {
   "cell_type": "code",
   "execution_count": null,
   "metadata": {},
   "outputs": [
    {
     "name": "stdout",
     "output_type": "stream",
     "text": [
      "Sent 4837 records to Kafka.\n"
     ]
    }
   ],
   "source": [
    "import requests\n",
    "from requests.auth import HTTPBasicAuth\n",
    "from kafka import KafkaProducer\n",
    "import json\n",
    "from datetime import datetime, timedelta, timezone\n",
    "\n",
    "correspond = [\"icao24\", \"callsign\", \"origin_country\", \"time_position\",\n",
    "              \"last_contact\", \"longitude\", \"latitude\", \"baro_altitude\",\n",
    "              \"on_ground\", \"velocity\", \"true_track\", \"vertical_rate\",\n",
    "              \"sensors\", \"geo_altitude\", \"squawk\", \"spi\", \"position_source\", \"category\"]\n",
    "\n",
    "# OpenSky credentials\n",
    "USERNAME = \"username\"\n",
    "PASSWORD = \"password\"\n",
    "\n",
    "def send_opensky_to_kafka(topic, url, fields={}):\n",
    "    kafka_config = {\n",
    "        'bootstrap_servers': 'kafka1:9092',\n",
    "    }\n",
    "\n",
    "    producer = KafkaProducer(\n",
    "        bootstrap_servers=kafka_config['bootstrap_servers'],\n",
    "        value_serializer=lambda v: json.dumps(v).encode('utf-8')\n",
    "    )\n",
    "\n",
    "    # response = requests.get(url, headers=headers, auth=HTTPBasicAuth(USERNAME, PASSWORD))\n",
    "    response = requests.get(url)\n",
    "\n",
    "    if response.status_code == 200:\n",
    "        data = response.json()\n",
    "        if data and \"states\" in data:\n",
    "            for state in data[\"states\"]:\n",
    "                flight_info = {key: state[i] for i, key in enumerate(correspond) if key}\n",
    "                flight_info[\"created_at\"] = datetime.now(timezone.utc).isoformat()\n",
    "                producer.send(topic, value=flight_info)\n",
    "            producer.flush()\n",
    "            print(f\"Sent {len(data['states'])} records to Kafka.\")\n",
    "        else:\n",
    "            print(\"No valid data to send.\")\n",
    "    else:\n",
    "        print(f\"Failed to fetch data from OpenSky API. Status code: {response.status_code}\")\n",
    "        print(response.text)  # Print the response for debugging\n",
    "    producer.close()\n",
    "\n",
    "api_url_time = \"https://opensky-network.org/api/states/all?extended={}&time={}\"\n",
    "api_url = \"https://opensky-network.org/api/states/all?extended={}\"\n",
    "\n",
    "time = int((datetime.now(timezone.utc) - timedelta(minutes=5)).timestamp())\n",
    "send_opensky_to_kafka(\"opensky\", api_url.format(1), {})\n"
   ]
  }
 ],
 "metadata": {
  "kernelspec": {
   "display_name": "Python 3 (ipykernel)",
   "language": "python",
   "name": "python3"
  },
  "language_info": {
   "codemirror_mode": {
    "name": "ipython",
    "version": 3
   },
   "file_extension": ".py",
   "mimetype": "text/x-python",
   "name": "python",
   "nbconvert_exporter": "python",
   "pygments_lexer": "ipython3",
   "version": "3.12.9"
  }
 },
 "nbformat": 4,
 "nbformat_minor": 2
}
