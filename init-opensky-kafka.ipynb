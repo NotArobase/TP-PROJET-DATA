{
 "cells": [
  {
   "cell_type": "markdown",
   "metadata": {},
   "source": [
    "# Init OpenSky into Kafka"
   ]
  },
  {
   "cell_type": "code",
   "execution_count": null,
   "metadata": {},
   "outputs": [],
   "source": [
    "import requests\n",
    "from kafka import KafkaProducer\n",
    "import json\n",
    "\n",
    "correspond = [\"icao24\",\"callsign\",\"origin_country\",\"time_position\",\n",
    "              \"last_contact\",\"longitude\",\"latitude\",\"baro_altitude\"\n",
    "              ,\"on_ground\",\"velocity\",\"true_track\",\"vertical_rate\",\n",
    "              \"sensors\",\"geo_altitude\",\"squawk\",\"spi\",\"position_source\",\"category\"]\n",
    "\n",
    "\n",
    "\n",
    "def send_opensky_to_kafka(topic, url, fields={}):\n",
    "\n",
    "    # Kafka configuration\n",
    "    kafka_config = {\n",
    "        'bootstrap_servers': 'kafka1:9092',  # Update with your Kafka broker\n",
    "    }\n",
    "\n",
    "    # Initialize Kafka Producer\n",
    "    producer = KafkaProducer(\n",
    "        bootstrap_servers=kafka_config['bootstrap_servers'],\n",
    "        value_serializer=lambda v: json.dumps(v).encode('utf-8')\n",
    "    )\n",
    "\n",
    "    # Fetch data from ThingSpeak\n",
    "    \n",
    "    response = requests.get(url)\n",
    "\n",
    "    # Check if the request was successful\n",
    "\n",
    "    if response.status_code == 200:\n",
    "        data = response.json()\n",
    "        if data and \"states\" in data:\n",
    "            for state in data[\"states\"]:\n",
    "                flight_info = {key: state[i] for i, key in enumerate(correspond) if key}\n",
    "                producer.send(topic, value=flight_info)\n",
    "            producer.flush()\n",
    "            print(f\"Sent {len(data['states'])} records to Kafka.\")\n",
    "        else:\n",
    "            print(\"No valid data to send.\")"
   ]
  },
  {
   "cell_type": "markdown",
   "metadata": {},
   "source": [
    "## Initiate beginning"
   ]
  },
  {
   "cell_type": "code",
   "execution_count": null,
   "metadata": {},
   "outputs": [],
   "source": [
    "from datetime import datetime, timedelta\n",
    "\n",
    "api_url = \"https://opensky-network.org/api/states/all\"\n",
    "\n",
    "# date initiale\n",
    "initial_date_str = \"2025-01-25 16:00:00\"\n",
    "# durée de récupération (minutes)\n",
    "step = 60\n",
    "\n",
    "date_format = \"%Y-%m-%d %H:%M:%S\"\n",
    "initial_date = datetime.strptime(initial_date_str, date_format)\n",
    "end_date = initial_date + timedelta(minutes=step)\n",
    "\n",
    "start = initial_date.strftime(date_format)\n",
    "end = end_date.strftime(date_format)"
   ]
  },
  {
   "cell_type": "markdown",
   "metadata": {},
   "source": [
    "## Exemple with 10 calls."
   ]
  },
  {
   "cell_type": "code",
   "execution_count": null,
   "metadata": {},
   "outputs": [
    {
     "name": "stdout",
     "output_type": "stream",
     "text": [
      "2025-01-25 16:00:00 - 2025-01-25 17:00:00\n",
      "Sent 6715 records to Kafka.\n",
      "['e49406', 'GLO1614 ', 'Brazil', 1742295233, 1742295236, -45.7226, -22.3238, 9448.8, False, 249.14, 35.76, 0.98, None, 10050.78, None, False, 0]\n"
     ]
    }
   ],
   "source": [
    "import time \n",
    "start = initial_date.strftime(date_format)\n",
    "end = end_date.strftime(date_format)\n",
    "\n",
    "print(f\"{start} - {end}\")\n",
    "send_opensky_to_kafka(\"opensky\", api_url, fields)\n",
    "\n",
    "time.sleep(5)\n",
    "\n",
    "# Update time variables\n",
    "initial_date = end_date\n",
    "end_date = initial_date + timedelta(minutes=step)"
   ]
  }
 ],
 "metadata": {
  "kernelspec": {
   "display_name": "Python 3 (ipykernel)",
   "language": "python",
   "name": "python3"
  },
  "language_info": {
   "codemirror_mode": {
    "name": "ipython",
    "version": 3
   },
   "file_extension": ".py",
   "mimetype": "text/x-python",
   "name": "python",
   "nbconvert_exporter": "python",
   "pygments_lexer": "ipython3",
   "version": "3.12.9"
  }
 },
 "nbformat": 4,
 "nbformat_minor": 2
}
